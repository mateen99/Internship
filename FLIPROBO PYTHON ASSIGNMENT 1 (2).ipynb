{
 "cells": [
  {
   "cell_type": "markdown",
   "id": "fdaf0ebe",
   "metadata": {},
   "source": [
    "# Question Number 11 Finding facorial of a number"
   ]
  },
  {
   "cell_type": "code",
   "execution_count": 3,
   "id": "bc8b7f9a",
   "metadata": {},
   "outputs": [
    {
     "name": "stdout",
     "output_type": "stream",
     "text": [
      "Enter The Number9\n",
      "The Factorial of 9 is : 362880\n"
     ]
    }
   ],
   "source": [
    "num=int(input(\"Enter The Number\"))\n",
    "fac=1\n",
    "for i in range (1,num+1):\n",
    "    fac=(fac*i)\n",
    "print(f\"The Factorial of {num} is : {fac}\")"
   ]
  },
  {
   "cell_type": "markdown",
   "id": "6ce1fea9",
   "metadata": {},
   "source": [
    "# Question Number 12 Number is Prime or Not"
   ]
  },
  {
   "cell_type": "code",
   "execution_count": 4,
   "id": "503a7620",
   "metadata": {},
   "outputs": [
    {
     "name": "stdout",
     "output_type": "stream",
     "text": [
      "Enter The Number 9\n",
      "Number Is Not Prime\n"
     ]
    }
   ],
   "source": [
    "num=int(input(\"Enter The Number \"))\n",
    "prime=True\n",
    "for i in range(2,num):\n",
    "    if(num%i==0):\n",
    "        prime=False\n",
    "        break\n",
    "if prime:\n",
    "    print(\"Number Is Prime\")\n",
    "else:\n",
    "    print(\"Number Is Not Prime\")"
   ]
  },
  {
   "cell_type": "markdown",
   "id": "1edb1fcb",
   "metadata": {},
   "source": [
    "# Question No 13 Finding the given number is palindrome"
   ]
  },
  {
   "cell_type": "code",
   "execution_count": 5,
   "id": "18359c65",
   "metadata": {},
   "outputs": [
    {
     "name": "stdout",
     "output_type": "stream",
     "text": [
      "Enter The Number 9\n",
      "The Number Is Palindrome\n"
     ]
    }
   ],
   "source": [
    "a=int(input(\"Enter The Number \"))\n",
    "b=str(a)\n",
    "c=b[::-1]\n",
    "if b==c:\n",
    "    print(\"The Number Is Palindrome\")\n",
    "else:\n",
    "    print(\"The Number Is Not Palindrome\")"
   ]
  },
  {
   "cell_type": "markdown",
   "id": "45b5fa9d",
   "metadata": {},
   "source": [
    "# Question No 14 Finding the third side of right angle of a triangle"
   ]
  },
  {
   "cell_type": "code",
   "execution_count": 6,
   "id": "42945626",
   "metadata": {},
   "outputs": [
    {
     "name": "stdout",
     "output_type": "stream",
     "text": [
      "Input lengths of shorter triangle sides:\n",
      "a: 9\n",
      "b: 8\n",
      "The length of the hypotenuse is 12.041594578792296\n"
     ]
    }
   ],
   "source": [
    "from math import sqrt\n",
    "print(\"Input lengths of shorter triangle sides:\")\n",
    "a = int(input(\"a: \"))\n",
    "b = int(input(\"b: \"))\n",
    "c = sqrt(a**2 + b**2)\n",
    "print(\"The length of the hypotenuse is\", c )"
   ]
  },
  {
   "cell_type": "markdown",
   "id": "9624060a",
   "metadata": {},
   "source": [
    "# Question No 15 Finding the frequency of a given character in a String"
   ]
  },
  {
   "cell_type": "code",
   "execution_count": 9,
   "id": "c195ef44",
   "metadata": {},
   "outputs": [
    {
     "name": "stdout",
     "output_type": "stream",
     "text": [
      "Enter the string: mateen\n",
      "Please enter the character to find frequency of the character\n",
      "e\n",
      "The frequency of the  e in the string is:  2\n"
     ]
    }
   ],
   "source": [
    "a=input(\"Enter the string: \")\n",
    "character=input(\"Please enter the character to find frequency of the character\\n\")\n",
    "count=0\n",
    "i=0\n",
    "while(i<len(a)):\n",
    "    if(a[i]==character):\n",
    "        count=count+1\n",
    "    i=i+1\n",
    "print(\"The frequency of the \",character,\"in the string is: \",count)"
   ]
  },
  {
   "cell_type": "code",
   "execution_count": null,
   "id": "90bd8290",
   "metadata": {},
   "outputs": [],
   "source": []
  },
  {
   "cell_type": "code",
   "execution_count": null,
   "id": "ba1b20ea",
   "metadata": {},
   "outputs": [],
   "source": []
  },
  {
   "cell_type": "code",
   "execution_count": null,
   "id": "a2e9426f",
   "metadata": {},
   "outputs": [],
   "source": []
  },
  {
   "cell_type": "code",
   "execution_count": null,
   "id": "ee8f5b21",
   "metadata": {},
   "outputs": [],
   "source": []
  },
  {
   "cell_type": "code",
   "execution_count": null,
   "id": "bf2afd4e",
   "metadata": {},
   "outputs": [],
   "source": []
  }
 ],
 "metadata": {
  "kernelspec": {
   "display_name": "Python 3 (ipykernel)",
   "language": "python",
   "name": "python3"
  },
  "language_info": {
   "codemirror_mode": {
    "name": "ipython",
    "version": 3
   },
   "file_extension": ".py",
   "mimetype": "text/x-python",
   "name": "python",
   "nbconvert_exporter": "python",
   "pygments_lexer": "ipython3",
   "version": "3.9.7"
  }
 },
 "nbformat": 4,
 "nbformat_minor": 5
}
